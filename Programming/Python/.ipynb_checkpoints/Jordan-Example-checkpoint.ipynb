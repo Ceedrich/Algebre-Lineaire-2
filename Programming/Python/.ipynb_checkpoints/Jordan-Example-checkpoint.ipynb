{
 "cells": [
  {
   "cell_type": "code",
   "execution_count": 1,
   "id": "83f4bf93-75b3-445a-ae6f-c0909e1f3b82",
   "metadata": {},
   "outputs": [],
   "source": [
    "from sage.matrix.constructor import random_unimodular_matrix"
   ]
  },
  {
   "cell_type": "code",
   "execution_count": 2,
   "id": "2bdd1640-3c9a-4d7c-87f3-ed2b628d962b",
   "metadata": {},
   "outputs": [],
   "source": [
    "C = random_matrix(ZZ, 5, algorithm='unimodular', upper_bound=7);"
   ]
  },
  {
   "cell_type": "code",
   "execution_count": 3,
   "id": "4e21e3e6-54bc-467f-a3dc-644007ad44b2",
   "metadata": {},
   "outputs": [
    {
     "data": {
      "text/plain": [
       "[ 1  2  1  0  6]\n",
       "[ 2  1  1  0  1]\n",
       "[-1  0  0  1 -3]\n",
       "[ 0 -1 -1 -1  0]\n",
       "[ 0 -1  0  0 -4]"
      ]
     },
     "execution_count": 3,
     "metadata": {},
     "output_type": "execute_result"
    }
   ],
   "source": [
    "C"
   ]
  },
  {
   "cell_type": "code",
   "execution_count": 4,
   "id": "7361e050-5257-4051-90a0-89868befffe7",
   "metadata": {},
   "outputs": [
    {
     "data": {
      "text/plain": [
       "1"
      ]
     },
     "execution_count": 4,
     "metadata": {},
     "output_type": "execute_result"
    }
   ],
   "source": [
    "C.determinant()"
   ]
  },
  {
   "cell_type": "code",
   "execution_count": 5,
   "id": "7e3d5687-f544-416a-b771-d5a8f6d2c8e4",
   "metadata": {},
   "outputs": [],
   "source": [
    "J = matrix(QQ, 5)"
   ]
  },
  {
   "cell_type": "code",
   "execution_count": 6,
   "id": "2bc783e7-755f-4041-8a8e-dd21347651a6",
   "metadata": {},
   "outputs": [
    {
     "data": {
      "text/plain": [
       "[0 0 0 0 0]\n",
       "[0 0 0 0 0]\n",
       "[0 0 0 0 0]\n",
       "[0 0 0 0 0]\n",
       "[0 0 0 0 0]"
      ]
     },
     "execution_count": 6,
     "metadata": {},
     "output_type": "execute_result"
    }
   ],
   "source": [
    "J"
   ]
  },
  {
   "cell_type": "code",
   "execution_count": 10,
   "id": "728ae5ef-38a4-4f5a-b65c-ccf4a0b3dbde",
   "metadata": {},
   "outputs": [],
   "source": [
    "for i in range(5):\n",
    "    J[i,i]=2"
   ]
  },
  {
   "cell_type": "code",
   "execution_count": 12,
   "id": "1f231799-4751-4247-9429-134efe24d6e7",
   "metadata": {},
   "outputs": [],
   "source": [
    "J[4,4]=5"
   ]
  },
  {
   "cell_type": "code",
   "execution_count": 13,
   "id": "a1c7e6ed-9a3a-4ca6-b623-0947b419c13a",
   "metadata": {},
   "outputs": [
    {
     "data": {
      "text/plain": [
       "[2 0 0 0 0]\n",
       "[0 2 0 0 0]\n",
       "[0 0 2 0 0]\n",
       "[0 0 0 2 0]\n",
       "[0 0 0 0 5]"
      ]
     },
     "execution_count": 13,
     "metadata": {},
     "output_type": "execute_result"
    }
   ],
   "source": [
    "J"
   ]
  },
  {
   "cell_type": "code",
   "execution_count": 14,
   "id": "67245f9d-af27-4f9b-bdbd-db8b50cb7787",
   "metadata": {},
   "outputs": [],
   "source": [
    "J[0,1]=1\n",
    "J[2,3]=1"
   ]
  },
  {
   "cell_type": "code",
   "execution_count": 15,
   "id": "9c8fe4ee-4f0a-47f1-afc6-6b0cd9e426e7",
   "metadata": {},
   "outputs": [
    {
     "data": {
      "text/plain": [
       "[2 1 0 0 0]\n",
       "[0 2 0 0 0]\n",
       "[0 0 2 1 0]\n",
       "[0 0 0 2 0]\n",
       "[0 0 0 0 5]"
      ]
     },
     "execution_count": 15,
     "metadata": {},
     "output_type": "execute_result"
    }
   ],
   "source": [
    "J"
   ]
  },
  {
   "cell_type": "code",
   "execution_count": 16,
   "id": "09e21273-71fc-4b53-9d1b-4f64e969e7bd",
   "metadata": {},
   "outputs": [],
   "source": [
    "A = C.inverse() * J * C"
   ]
  },
  {
   "cell_type": "code",
   "execution_count": 17,
   "id": "c3328fc8-c2dd-4ff3-bc19-b98a71b7181f",
   "metadata": {},
   "outputs": [
    {
     "data": {
      "text/plain": [
       "[ -2   5  -1   1  22]\n",
       "[  8  -7   0  -4 -32]\n",
       "[  2  -4   4   1 -23]\n",
       "[-10  13  -2   5  55]\n",
       "[ -2   3   0   1  13]"
      ]
     },
     "execution_count": 17,
     "metadata": {},
     "output_type": "execute_result"
    }
   ],
   "source": [
    "A"
   ]
  },
  {
   "cell_type": "code",
   "execution_count": 18,
   "id": "60353637-d1ec-4ad7-9796-8e5e96cf185c",
   "metadata": {},
   "outputs": [
    {
     "data": {
      "text/plain": [
       "\\left(\\begin{array}{rrrrr}\n",
       "-2 & 5 & -1 & 1 & 22 \\\\\n",
       "8 & -7 & 0 & -4 & -32 \\\\\n",
       "2 & -4 & 4 & 1 & -23 \\\\\n",
       "-10 & 13 & -2 & 5 & 55 \\\\\n",
       "-2 & 3 & 0 & 1 & 13\n",
       "\\end{array}\\right)"
      ]
     },
     "execution_count": 18,
     "metadata": {},
     "output_type": "execute_result"
    }
   ],
   "source": [
    "latex(A)"
   ]
  },
  {
   "cell_type": "code",
   "execution_count": 19,
   "id": "e6d52af2-0093-4e43-8e25-2535fe4c042e",
   "metadata": {},
   "outputs": [
    {
     "data": {
      "text/plain": [
       "x^5 - 13*x^4 + 64*x^3 - 152*x^2 + 176*x - 80"
      ]
     },
     "execution_count": 19,
     "metadata": {},
     "output_type": "execute_result"
    }
   ],
   "source": [
    "A.characteristic_polynomial()"
   ]
  },
  {
   "cell_type": "code",
   "execution_count": null,
   "id": "e1858b1b-182f-484e-9fa6-c69c608ec226",
   "metadata": {},
   "outputs": [],
   "source": []
  }
 ],
 "metadata": {
  "kernelspec": {
   "display_name": "SageMath 10.2",
   "language": "sage",
   "name": "sagemath"
  },
  "language_info": {
   "codemirror_mode": {
    "name": "ipython",
    "version": 3
   },
   "file_extension": ".py",
   "mimetype": "text/x-python",
   "name": "python",
   "nbconvert_exporter": "python",
   "pygments_lexer": "ipython3",
   "version": "3.11.1"
  }
 },
 "nbformat": 4,
 "nbformat_minor": 5
}
