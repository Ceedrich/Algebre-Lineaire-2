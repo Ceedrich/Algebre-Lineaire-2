{
 "cells": [
  {
   "cell_type": "code",
   "execution_count": 21,
   "id": "3744ddc9-d927-4545-8983-42b2c17a74ac",
   "metadata": {},
   "outputs": [],
   "source": [
    "A = matrix(QQbar, 2)"
   ]
  },
  {
   "cell_type": "code",
   "execution_count": 22,
   "id": "ae2b7dfd-e9a8-4d16-80b6-82e7c749da14",
   "metadata": {},
   "outputs": [
    {
     "data": {
      "text/plain": [
       "[0 0]\n",
       "[0 0]"
      ]
     },
     "execution_count": 22,
     "metadata": {},
     "output_type": "execute_result"
    }
   ],
   "source": [
    "A"
   ]
  },
  {
   "cell_type": "code",
   "execution_count": 23,
   "id": "2b8a58dd-3d70-4115-9513-6d2426bf6466",
   "metadata": {},
   "outputs": [],
   "source": [
    "A[0,1] = -1\n",
    "A[1,0]= 1"
   ]
  },
  {
   "cell_type": "code",
   "execution_count": 24,
   "id": "1767e241-30ee-4133-b2db-e2fcc4d0245a",
   "metadata": {},
   "outputs": [
    {
     "data": {
      "text/plain": [
       "[ 0 -1]\n",
       "[ 1  0]"
      ]
     },
     "execution_count": 24,
     "metadata": {},
     "output_type": "execute_result"
    }
   ],
   "source": [
    "A"
   ]
  },
  {
   "cell_type": "code",
   "execution_count": 26,
   "id": "3f058ff9-6c10-48a9-a865-198695d6e49f",
   "metadata": {},
   "outputs": [],
   "source": [
    "D,P=A.diagonalization()"
   ]
  },
  {
   "cell_type": "code",
   "execution_count": 27,
   "id": "3d681032-2e14-4584-8cca-6f1880583932",
   "metadata": {},
   "outputs": [
    {
     "data": {
      "text/plain": [
       "[-1*I    0]\n",
       "[   0  1*I]"
      ]
     },
     "execution_count": 27,
     "metadata": {},
     "output_type": "execute_result"
    }
   ],
   "source": [
    "D"
   ]
  },
  {
   "cell_type": "code",
   "execution_count": 28,
   "id": "709a6f17-0518-4f3e-abeb-c29f12c0f6fe",
   "metadata": {},
   "outputs": [
    {
     "data": {
      "text/plain": [
       "\\left(\\begin{array}{rr}\n",
       "-1 \\sqrt{-1} & 0 \\\\\n",
       "0 & 1 \\sqrt{-1}\n",
       "\\end{array}\\right)"
      ]
     },
     "execution_count": 28,
     "metadata": {},
     "output_type": "execute_result"
    }
   ],
   "source": [
    "latex(D)"
   ]
  },
  {
   "cell_type": "code",
   "execution_count": 29,
   "id": "bb8e81fd-cec5-4919-b1fc-27707df7e366",
   "metadata": {},
   "outputs": [
    {
     "data": {
      "text/plain": [
       "[-1*I    0]\n",
       "[   0  1*I]"
      ]
     },
     "execution_count": 29,
     "metadata": {},
     "output_type": "execute_result"
    }
   ],
   "source": [
    "P.inverse()*A*P"
   ]
  },
  {
   "cell_type": "code",
   "execution_count": 30,
   "id": "a0c6bb54-31fb-4227-b406-bf128d08102a",
   "metadata": {},
   "outputs": [
    {
     "data": {
      "text/plain": [
       "[   0 -1*I]\n",
       "[-1*I    0]"
      ]
     },
     "execution_count": 30,
     "metadata": {},
     "output_type": "execute_result"
    }
   ],
   "source": [
    "P * A * P.inverse()"
   ]
  },
  {
   "cell_type": "code",
   "execution_count": 31,
   "id": "ae3c4781-ba42-47ad-9e9b-b7c4298131f2",
   "metadata": {},
   "outputs": [
    {
     "data": {
      "text/plain": [
       "[ 0 -1]\n",
       "[ 1  0]"
      ]
     },
     "execution_count": 31,
     "metadata": {},
     "output_type": "execute_result"
    }
   ],
   "source": [
    "P * D * P.inverse()"
   ]
  },
  {
   "cell_type": "code",
   "execution_count": 32,
   "id": "b741c690-bb43-450a-9aad-a0ade7ff5fa3",
   "metadata": {},
   "outputs": [
    {
     "data": {
      "text/plain": [
       "\\left(\\begin{array}{rr}\n",
       "1 & 1 \\\\\n",
       "1 \\sqrt{-1} & -1 \\sqrt{-1}\n",
       "\\end{array}\\right)"
      ]
     },
     "execution_count": 32,
     "metadata": {},
     "output_type": "execute_result"
    }
   ],
   "source": [
    "latex(P)"
   ]
  },
  {
   "cell_type": "code",
   "execution_count": 33,
   "id": "e09c0160-6a30-46c9-942c-5570cba94ad0",
   "metadata": {},
   "outputs": [
    {
     "data": {
      "text/plain": [
       "\\left(\\begin{array}{rr}\n",
       "-1 \\sqrt{-1} & 0 \\\\\n",
       "0 & 1 \\sqrt{-1}\n",
       "\\end{array}\\right)"
      ]
     },
     "execution_count": 33,
     "metadata": {},
     "output_type": "execute_result"
    }
   ],
   "source": [
    "latex(D)"
   ]
  },
  {
   "cell_type": "code",
   "execution_count": 34,
   "id": "84f1682f-c81d-46dd-b8e5-eef2491763fe",
   "metadata": {},
   "outputs": [
    {
     "data": {
      "text/plain": [
       "[                    1/2 -0.50000000000000000?*I]\n",
       "[                    1/2  0.50000000000000000?*I]"
      ]
     },
     "execution_count": 34,
     "metadata": {},
     "output_type": "execute_result"
    }
   ],
   "source": [
    "P.inverse()"
   ]
  },
  {
   "cell_type": "code",
   "execution_count": null,
   "id": "a4dfcc91-4308-49b6-9137-a59d455e5129",
   "metadata": {},
   "outputs": [],
   "source": []
  }
 ],
 "metadata": {
  "kernelspec": {
   "display_name": "SageMath 10.2",
   "language": "sage",
   "name": "sagemath"
  },
  "language_info": {
   "codemirror_mode": {
    "name": "ipython",
    "version": 3
   },
   "file_extension": ".py",
   "mimetype": "text/x-python",
   "name": "python",
   "nbconvert_exporter": "python",
   "pygments_lexer": "ipython3",
   "version": "3.11.1"
  }
 },
 "nbformat": 4,
 "nbformat_minor": 5
}
