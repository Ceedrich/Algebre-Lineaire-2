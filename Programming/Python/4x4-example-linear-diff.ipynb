{
 "cells": [
  {
   "cell_type": "code",
   "execution_count": 19,
   "id": "138621b5-fcf2-4ab4-9a5e-54554a54e787",
   "metadata": {},
   "outputs": [],
   "source": [
    "A = matrix(QQbar, 4)\n",
    "A[0,1] = -1\n",
    "A[1,0]= 1\n",
    "A[2,2]=3\n",
    "A[3,3]=3\n",
    "A[2,3]=1\n",
    "\n",
    "\n"
   ]
  },
  {
   "cell_type": "code",
   "execution_count": 20,
   "id": "e17e7999-eea1-4d5d-a850-5fcd5a3b1c01",
   "metadata": {},
   "outputs": [
    {
     "data": {
      "text/plain": [
       "[ 0 -1  0  0]\n",
       "[ 1  0  0  0]\n",
       "[ 0  0  3  1]\n",
       "[ 0  0  0  3]"
      ]
     },
     "execution_count": 20,
     "metadata": {},
     "output_type": "execute_result"
    }
   ],
   "source": [
    "A"
   ]
  },
  {
   "cell_type": "code",
   "execution_count": 21,
   "id": "6535fba2-9421-47cf-88a5-25c5d0c6cb7f",
   "metadata": {},
   "outputs": [],
   "source": [
    "C = random_matrix(ZZ, 4, algorithm='unimodular', upper_bound=3);"
   ]
  },
  {
   "cell_type": "code",
   "execution_count": 22,
   "id": "8e819c6d-f7ed-4eb9-99e2-75300b90eea1",
   "metadata": {},
   "outputs": [
    {
     "data": {
      "text/plain": [
       "[ 1  0  1 -1]\n",
       "[ 0  1  1 -1]\n",
       "[ 0 -1  0 -1]\n",
       "[-1  0  0  0]"
      ]
     },
     "execution_count": 22,
     "metadata": {},
     "output_type": "execute_result"
    }
   ],
   "source": [
    "C"
   ]
  },
  {
   "cell_type": "code",
   "execution_count": 23,
   "id": "306500ed-87d7-4ecd-a822-b39e6f793cc1",
   "metadata": {},
   "outputs": [],
   "source": [
    "A_1 = C * A * C.inverse()"
   ]
  },
  {
   "cell_type": "code",
   "execution_count": 24,
   "id": "f83568cc-39db-40e9-b702-1ee45184574d",
   "metadata": {},
   "outputs": [
    {
     "data": {
      "text/plain": [
       "[ 5 -2 -1  5]\n",
       "[ 4 -1 -1  3]\n",
       "[-3  3  3 -2]\n",
       "[-1  1  0 -1]"
      ]
     },
     "execution_count": 24,
     "metadata": {},
     "output_type": "execute_result"
    }
   ],
   "source": [
    "A_1"
   ]
  },
  {
   "cell_type": "code",
   "execution_count": null,
   "id": "127a0766-e9af-44e6-8d21-06a0a574b99f",
   "metadata": {},
   "outputs": [],
   "source": []
  },
  {
   "cell_type": "code",
   "execution_count": 25,
   "id": "fff60eae-fbab-4a7d-acc1-6694ecf9d4d5",
   "metadata": {},
   "outputs": [],
   "source": [
    "B = matrix(QQbar, 2)\n",
    "B[0,1] = -1\n",
    "B[1,0]= 1\n",
    "\n",
    "\n",
    "D,P_2=B.diagonalization()"
   ]
  },
  {
   "cell_type": "code",
   "execution_count": 26,
   "id": "77c8d2e1-4b87-42ab-b65a-e0f9d90435b9",
   "metadata": {},
   "outputs": [
    {
     "data": {
      "text/plain": [
       "[   1    1]\n",
       "[ 1*I -1*I]"
      ]
     },
     "execution_count": 26,
     "metadata": {},
     "output_type": "execute_result"
    }
   ],
   "source": [
    "P_2"
   ]
  },
  {
   "cell_type": "code",
   "execution_count": 29,
   "id": "736c7629-727d-4a8b-ba7d-0306ccd5b74c",
   "metadata": {},
   "outputs": [],
   "source": [
    "P = matrix(QQbar, 4)\n",
    "P[0,0] = P_2[0,0]\n",
    "P[0,1] = P_2[0,1]\n",
    "P[1,0] = P_2[1,0]\n",
    "P[1,1] = P_2[1,1]\n",
    "P[2,2] = 1\n",
    "P[3,3] = 1\n"
   ]
  },
  {
   "cell_type": "code",
   "execution_count": 30,
   "id": "03d5722b-6d76-48e3-a643-d4be33628d0e",
   "metadata": {},
   "outputs": [
    {
     "data": {
      "text/plain": [
       "[-1*I    0    0    0]\n",
       "[   0  1*I    0    0]\n",
       "[   0    0    3    1]\n",
       "[   0    0    0    3]"
      ]
     },
     "execution_count": 30,
     "metadata": {},
     "output_type": "execute_result"
    }
   ],
   "source": [
    "P.inverse()*A*P"
   ]
  },
  {
   "cell_type": "code",
   "execution_count": 35,
   "id": "940d3588-f471-43c7-adb9-6cfff87e10a2",
   "metadata": {},
   "outputs": [
    {
     "data": {
      "text/plain": [
       "[-1*I    0    0    0]\n",
       "[   0  1*I    0    0]\n",
       "[   0    0    3    1]\n",
       "[   0    0    0    3]"
      ]
     },
     "execution_count": 35,
     "metadata": {},
     "output_type": "execute_result"
    }
   ],
   "source": [
    "P.inverse() * C.inverse() * A_1 * C * P"
   ]
  },
  {
   "cell_type": "code",
   "execution_count": 36,
   "id": "93973051-939c-47ce-8cf7-80ecd2010cce",
   "metadata": {},
   "outputs": [
    {
     "data": {
      "text/plain": [
       "[   1    1    1   -1]\n",
       "[ 1*I -1*I    1   -1]\n",
       "[-1*I  1*I    0   -1]\n",
       "[  -1   -1    0    0]"
      ]
     },
     "execution_count": 36,
     "metadata": {},
     "output_type": "execute_result"
    }
   ],
   "source": [
    "C*P"
   ]
  },
  {
   "cell_type": "code",
   "execution_count": 37,
   "id": "60f5fe5d-ed89-4cb3-a18f-28662444d743",
   "metadata": {},
   "outputs": [
    {
     "data": {
      "text/plain": [
       "\\left(\\begin{array}{rrrr}\n",
       "5 & -2 & -1 & 5 \\\\\n",
       "4 & -1 & -1 & 3 \\\\\n",
       "-3 & 3 & 3 & -2 \\\\\n",
       "-1 & 1 & 0 & -1\n",
       "\\end{array}\\right)"
      ]
     },
     "execution_count": 37,
     "metadata": {},
     "output_type": "execute_result"
    }
   ],
   "source": [
    "latex(A_1)"
   ]
  },
  {
   "cell_type": "code",
   "execution_count": 41,
   "id": "f39087e3-120b-4c37-89c1-edd29567782d",
   "metadata": {},
   "outputs": [
    {
     "data": {
      "text/plain": [
       "\\left(\\begin{array}{rrrr}\n",
       "-1 \\sqrt{-1} & 0 & 0 & 0 \\\\\n",
       "0 & 1 \\sqrt{-1} & 0 & 0 \\\\\n",
       "0 & 0 & 3 & 1 \\\\\n",
       "0 & 0 & 0 & 3\n",
       "\\end{array}\\right)"
      ]
     },
     "execution_count": 41,
     "metadata": {},
     "output_type": "execute_result"
    }
   ],
   "source": [
    "latex(P.inverse() * C.inverse() * A_1 * C * P) "
   ]
  },
  {
   "cell_type": "code",
   "execution_count": 42,
   "id": "6b24c403-0fec-4184-9ec7-fda334164896",
   "metadata": {},
   "outputs": [
    {
     "data": {
      "text/plain": [
       "\\left(\\begin{array}{rrrr}\n",
       "1 & 1 & 1 & -1 \\\\\n",
       "1 \\sqrt{-1} & -1 \\sqrt{-1} & 1 & -1 \\\\\n",
       "-1 \\sqrt{-1} & 1 \\sqrt{-1} & 0 & -1 \\\\\n",
       "-1 & -1 & 0 & 0\n",
       "\\end{array}\\right)"
      ]
     },
     "execution_count": 42,
     "metadata": {},
     "output_type": "execute_result"
    }
   ],
   "source": [
    "latex (C *P)"
   ]
  },
  {
   "cell_type": "code",
   "execution_count": 43,
   "id": "8d025521-df74-4c42-9adf-b941ad384111",
   "metadata": {},
   "outputs": [],
   "source": [
    "U = matrix(SR, 4)"
   ]
  },
  {
   "cell_type": "code",
   "execution_count": 49,
   "id": "60175da2-9e59-4b86-8879-d070dbf6d428",
   "metadata": {},
   "outputs": [],
   "source": [
    "U[0,0] = var('x')\n",
    "U[0,1] = -var('y')\n",
    "U[1,0] = var('y')\n",
    "U[1,1]= var('x')"
   ]
  },
  {
   "cell_type": "code",
   "execution_count": 50,
   "id": "9cea1f20-8b5e-457f-8666-7ea11953bb35",
   "metadata": {},
   "outputs": [
    {
     "data": {
      "text/plain": [
       "[ x -y  0  0]\n",
       "[ y  x  0  0]\n",
       "[ 0  0  0  0]\n",
       "[ 0  0  0  0]"
      ]
     },
     "execution_count": 50,
     "metadata": {},
     "output_type": "execute_result"
    }
   ],
   "source": [
    "U"
   ]
  },
  {
   "cell_type": "code",
   "execution_count": null,
   "id": "d7f58edd-ae68-406f-90b3-ec8d889e33ed",
   "metadata": {},
   "outputs": [],
   "source": []
  }
 ],
 "metadata": {
  "kernelspec": {
   "display_name": "SageMath 10.2",
   "language": "sage",
   "name": "sagemath"
  },
  "language_info": {
   "codemirror_mode": {
    "name": "ipython",
    "version": 3
   },
   "file_extension": ".py",
   "mimetype": "text/x-python",
   "name": "python",
   "nbconvert_exporter": "python",
   "pygments_lexer": "ipython3",
   "version": "3.11.1"
  }
 },
 "nbformat": 4,
 "nbformat_minor": 5
}
