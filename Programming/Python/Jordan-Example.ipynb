{
 "cells": [
  {
   "cell_type": "code",
   "execution_count": 125,
   "id": "83f4bf93-75b3-445a-ae6f-c0909e1f3b82",
   "metadata": {},
   "outputs": [],
   "source": [
    "from sage.matrix.constructor import random_unimodular_matrix"
   ]
  },
  {
   "cell_type": "code",
   "execution_count": 126,
   "id": "2bdd1640-3c9a-4d7c-87f3-ed2b628d962b",
   "metadata": {},
   "outputs": [],
   "source": [
    "C = random_matrix(ZZ, 5, algorithm='unimodular', upper_bound=3);"
   ]
  },
  {
   "cell_type": "code",
   "execution_count": 127,
   "id": "4e21e3e6-54bc-467f-a3dc-644007ad44b2",
   "metadata": {},
   "outputs": [
    {
     "data": {
      "text/plain": [
       "[ 1  0  1 -2  1]\n",
       "[ 0  1  0 -2 -1]\n",
       "[ 1 -1  2 -1  1]\n",
       "[ 1  0  1 -1  1]\n",
       "[ 0  0  0 -2  1]"
      ]
     },
     "execution_count": 127,
     "metadata": {},
     "output_type": "execute_result"
    }
   ],
   "source": [
    "C"
   ]
  },
  {
   "cell_type": "code",
   "execution_count": 128,
   "id": "7361e050-5257-4051-90a0-89868befffe7",
   "metadata": {},
   "outputs": [
    {
     "data": {
      "text/plain": [
       "1"
      ]
     },
     "execution_count": 128,
     "metadata": {},
     "output_type": "execute_result"
    }
   ],
   "source": [
    "C.determinant()"
   ]
  },
  {
   "cell_type": "code",
   "execution_count": 129,
   "id": "7e3d5687-f544-416a-b771-d5a8f6d2c8e4",
   "metadata": {},
   "outputs": [],
   "source": [
    "J = matrix(QQ, 5)\n",
    "for i in range(5):\n",
    "    J[i,i]=2\n",
    "J[4,4]=5    \n",
    "J[0,1]=1\n",
    "J[2,3]=1"
   ]
  },
  {
   "cell_type": "code",
   "execution_count": 130,
   "id": "2bc783e7-755f-4041-8a8e-dd21347651a6",
   "metadata": {},
   "outputs": [
    {
     "data": {
      "text/plain": [
       "[2 1 0 0 0]\n",
       "[0 2 0 0 0]\n",
       "[0 0 2 1 0]\n",
       "[0 0 0 2 0]\n",
       "[0 0 0 0 5]"
      ]
     },
     "execution_count": 130,
     "metadata": {},
     "output_type": "execute_result"
    }
   ],
   "source": [
    "J"
   ]
  },
  {
   "cell_type": "code",
   "execution_count": 131,
   "id": "09e21273-71fc-4b53-9d1b-4f64e969e7bd",
   "metadata": {},
   "outputs": [],
   "source": [
    "A = C.inverse() * J * C"
   ]
  },
  {
   "cell_type": "code",
   "execution_count": 132,
   "id": "c3328fc8-c2dd-4ff3-bc19-b98a71b7181f",
   "metadata": {},
   "outputs": [
    {
     "data": {
      "text/plain": [
       "[  1   5  -1   3 -12]\n",
       "[  0  -2   0   2   7]\n",
       "[  1  -4   3   1   8]\n",
       "[  0  -1   0   4   1]\n",
       "[  0  -2   0  -2   7]"
      ]
     },
     "execution_count": 132,
     "metadata": {},
     "output_type": "execute_result"
    }
   ],
   "source": [
    "A"
   ]
  },
  {
   "cell_type": "code",
   "execution_count": 133,
   "id": "e1858b1b-182f-484e-9fa6-c69c608ec226",
   "metadata": {},
   "outputs": [],
   "source": [
    "K_1 = (A - 2 * matrix.identity(5))^4\n",
    "K_1\n",
    "K_2 = (A - 5*matrix.identity(5))\n",
    "\n"
   ]
  },
  {
   "cell_type": "code",
   "execution_count": 134,
   "id": "7fda039d-3a89-4d55-b293-a7d8040ecfa7",
   "metadata": {},
   "outputs": [
    {
     "data": {
      "text/plain": [
       "Vector space of degree 5 and dimension 4 over Rational Field\n",
       "Basis matrix:\n",
       "[1 0 0 0 0]\n",
       "[0 1 0 0 0]\n",
       "[0 0 1 0 0]\n",
       "[0 0 0 1 2]"
      ]
     },
     "execution_count": 134,
     "metadata": {},
     "output_type": "execute_result"
    }
   ],
   "source": [
    "V = kernel(K_1.transpose())\n",
    "V_2 = kernel(K_2.transpose())\n",
    "V"
   ]
  },
  {
   "cell_type": "code",
   "execution_count": 135,
   "id": "0997890b-d21b-439e-9ff7-1d7b0d0e826d",
   "metadata": {},
   "outputs": [],
   "source": [
    "B_1 = matrix(V.basis())\n",
    "B_2 = Matrix(QQ,5)\n",
    "B_3 = matrix(V_2.basis())\n",
    "for i in range(4):\n",
    "    B_2[i]=B_1[i]\n",
    "B_2[4] = B_3[0]\n"
   ]
  },
  {
   "cell_type": "code",
   "execution_count": 136,
   "id": "65ffcab7-4e0c-4624-9303-3bb8807220f0",
   "metadata": {},
   "outputs": [],
   "source": [
    "B_2 = B_2.transpose()"
   ]
  },
  {
   "cell_type": "code",
   "execution_count": 137,
   "id": "dd8ece0a-0c17-42cb-9174-a85522b88946",
   "metadata": {},
   "outputs": [
    {
     "data": {
      "text/plain": [
       "[  1   5  -1 -21   0]\n",
       "[  0  -2   0  16   0]\n",
       "[  1  -4   3  17   0]\n",
       "[  0  -1   0   6   0]\n",
       "[  0   0   0   0   5]"
      ]
     },
     "execution_count": 137,
     "metadata": {},
     "output_type": "execute_result"
    }
   ],
   "source": [
    "B_2.inverse() * A * B_2"
   ]
  },
  {
   "cell_type": "code",
   "execution_count": 138,
   "id": "8253055c-9fb1-4296-83aa-3a7318f1fdf3",
   "metadata": {},
   "outputs": [],
   "source": [
    "N = matrix(QQ,4) \n",
    "for i in range(4):\n",
    "    for j in range(4):\n",
    "        N[i,j] = (B_2.inverse() * A * B_2)[i,j]\n",
    "N = N - 2 * matrix.identity(4)        "
   ]
  },
  {
   "cell_type": "code",
   "execution_count": 139,
   "id": "d4350bc6-7d84-46cb-b00c-f204395b0f77",
   "metadata": {},
   "outputs": [
    {
     "data": {
      "text/plain": [
       "[ -1   5  -1 -21]\n",
       "[  0  -4   0  16]\n",
       "[  1  -4   1  17]\n",
       "[  0  -1   0   4]"
      ]
     },
     "execution_count": 139,
     "metadata": {},
     "output_type": "execute_result"
    }
   ],
   "source": [
    "N"
   ]
  },
  {
   "cell_type": "code",
   "execution_count": 140,
   "id": "b616c635-278f-4a6e-9af2-32572d0b6abe",
   "metadata": {},
   "outputs": [
    {
     "data": {
      "text/plain": [
       "[0 0 0 0]\n",
       "[0 0 0 0]\n",
       "[0 0 0 0]\n",
       "[0 0 0 0]"
      ]
     },
     "execution_count": 140,
     "metadata": {},
     "output_type": "execute_result"
    }
   ],
   "source": [
    "N*N"
   ]
  },
  {
   "cell_type": "code",
   "execution_count": null,
   "id": "eab27c7f-1999-4f53-b4e9-e4fd9739ddad",
   "metadata": {},
   "outputs": [],
   "source": []
  }
 ],
 "metadata": {
  "kernelspec": {
   "display_name": "SageMath 10.2",
   "language": "sage",
   "name": "sagemath"
  },
  "language_info": {
   "codemirror_mode": {
    "name": "ipython",
    "version": 3
   },
   "file_extension": ".py",
   "mimetype": "text/x-python",
   "name": "python",
   "nbconvert_exporter": "python",
   "pygments_lexer": "ipython3",
   "version": "3.11.1"
  }
 },
 "nbformat": 4,
 "nbformat_minor": 5
}
